{
 "cells": [
  {
   "cell_type": "code",
   "execution_count": 1,
   "id": "eda6363b",
   "metadata": {},
   "outputs": [],
   "source": [
    "import json\n",
    "from oauth2client.client import GoogleCredentials\n",
    "import requests"
   ]
  },
  {
   "cell_type": "code",
   "execution_count": 2,
   "id": "d87dcc3b",
   "metadata": {},
   "outputs": [],
   "source": [
    "PROJECT = \"kubeflow-1-0-2\"\n",
    "REGION = \"us-central1\"\n",
    "ENDPOINT_ID = \"2613644692339818496\""
   ]
  },
  {
   "cell_type": "code",
   "execution_count": 3,
   "id": "00cdf359",
   "metadata": {},
   "outputs": [],
   "source": [
    "token = GoogleCredentials.get_application_default().get_access_token().access_token\n",
    "\n",
    "api = \"https://{}-aiplatform.googleapis.com/v1/projects/{}/locations/{}/endpoints/{}:predict\".format(\n",
    "                                                                                                     REGION,\n",
    "                                                                                                     PROJECT,\n",
    "                                                                                                     REGION,\n",
    "                                                                                                     ENDPOINT_ID\n",
    "                                                                                                    )\n",
    "\n",
    "headers = {\"Authorization\": \"Bearer \" + token }"
   ]
  },
  {
   "cell_type": "code",
   "execution_count": 4,
   "id": "d8739da5",
   "metadata": {},
   "outputs": [
    {
     "data": {
      "text/plain": [
       "'https://us-central1-aiplatform.googleapis.com/v1/projects/kubeflow-1-0-2/locations/us-central1/endpoints/2613644692339818496:predict'"
      ]
     },
     "execution_count": 4,
     "metadata": {},
     "output_type": "execute_result"
    }
   ],
   "source": [
    "api"
   ]
  },
  {
   "cell_type": "code",
   "execution_count": 5,
   "id": "e66f220d",
   "metadata": {},
   "outputs": [],
   "source": [
    "data = {\n",
    "         \"instances\": [\n",
    "                       {\n",
    "                        \"filenames\": \"gs://fire_detection_anurag/test_images/fire1.jpg\"\n",
    "                       },\n",
    "                       {\n",
    "                        \"filenames\": \"gs://fire_detection_anurag/test_images/fire2.jpg\"\n",
    "                       },\n",
    "                       {\n",
    "                        \"filenames\": \"gs://fire_detection_anurag/test_images/fire3.jpg\"\n",
    "                       },\n",
    "                       {\n",
    "                        \"filenames\": \"gs://fire_detection_anurag/test_images/fire4.jpg\"\n",
    "                       },\n",
    "                       {\n",
    "                        \"filenames\": \"gs://fire_detection_anurag/test_images/fire5.jpg\"\n",
    "                       }\n",
    "                      ]\n",
    "       }"
   ]
  },
  {
   "cell_type": "code",
   "execution_count": 6,
   "id": "3589d4a0",
   "metadata": {},
   "outputs": [],
   "source": [
    "response = requests.post(api,\n",
    "                         json=data,\n",
    "                         headers=headers)"
   ]
  },
  {
   "cell_type": "code",
   "execution_count": 7,
   "id": "4f6dfac0",
   "metadata": {},
   "outputs": [
    {
     "name": "stdout",
     "output_type": "stream",
     "text": [
      "b'{\\n  \"predictions\": [\\n    {\\n      \"image_type_int\": 0,\\n      \"image_type_str\": \"Fire\",\\n      \"probability\": 0.994521737\\n    },\\n    {\\n      \"image_type_int\": 0,\\n      \"probability\": 0.711659253,\\n      \"image_type_str\": \"Fire\"\\n    },\\n    {\\n      \"image_type_int\": 0,\\n      \"probability\": 0.987360537,\\n      \"image_type_str\": \"Fire\"\\n    },\\n    {\\n      \"image_type_str\": \"Fire\",\\n      \"image_type_int\": 0,\\n      \"probability\": 0.983968496\\n    },\\n    {\\n      \"image_type_int\": 0,\\n      \"probability\": 0.995875299,\\n      \"image_type_str\": \"Fire\"\\n    }\\n  ],\\n  \"deployedModelId\": \"9088730240963837952\",\\n  \"model\": \"projects/9118975290/locations/us-central1/models/3424217858475819008\",\\n  \"modelDisplayName\": \"fire_detector\"\\n}\\n'\n"
     ]
    }
   ],
   "source": [
    "print(response.content)"
   ]
  },
  {
   "cell_type": "code",
   "execution_count": 11,
   "id": "a5858d69",
   "metadata": {},
   "outputs": [
    {
     "data": {
      "text/plain": [
       "{'predictions': [{'image_type_int': 0,\n",
       "   'image_type_str': 'Fire',\n",
       "   'probability': 0.994521737},\n",
       "  {'image_type_int': 0, 'probability': 0.711659253, 'image_type_str': 'Fire'},\n",
       "  {'image_type_int': 0, 'probability': 0.987360537, 'image_type_str': 'Fire'},\n",
       "  {'image_type_str': 'Fire', 'image_type_int': 0, 'probability': 0.983968496},\n",
       "  {'image_type_int': 0, 'probability': 0.995875299, 'image_type_str': 'Fire'}],\n",
       " 'deployedModelId': '9088730240963837952',\n",
       " 'model': 'projects/9118975290/locations/us-central1/models/3424217858475819008',\n",
       " 'modelDisplayName': 'fire_detector'}"
      ]
     },
     "execution_count": 11,
     "metadata": {},
     "output_type": "execute_result"
    }
   ],
   "source": [
    "json.loads(response.content.decode('utf-8').replace('\\n', ''))"
   ]
  },
  {
   "cell_type": "code",
   "execution_count": null,
   "id": "05ca1edc",
   "metadata": {},
   "outputs": [],
   "source": []
  }
 ],
 "metadata": {
  "environment": {
   "name": "tf2-gpu.2-3.m65",
   "type": "gcloud",
   "uri": "gcr.io/deeplearning-platform-release/tf2-gpu.2-3:m65"
  },
  "kernelspec": {
   "display_name": "Python 3",
   "language": "python",
   "name": "python3"
  },
  "language_info": {
   "codemirror_mode": {
    "name": "ipython",
    "version": 3
   },
   "file_extension": ".py",
   "mimetype": "text/x-python",
   "name": "python",
   "nbconvert_exporter": "python",
   "pygments_lexer": "ipython3",
   "version": "3.7.10"
  }
 },
 "nbformat": 4,
 "nbformat_minor": 5
}
