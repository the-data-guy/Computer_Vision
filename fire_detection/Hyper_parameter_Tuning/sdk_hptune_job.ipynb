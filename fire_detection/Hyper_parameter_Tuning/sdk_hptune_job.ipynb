{
 "cells": [
  {
   "cell_type": "code",
   "execution_count": 1,
   "id": "5a6a5013",
   "metadata": {},
   "outputs": [],
   "source": [
    "# !pip3 install google-cloud-aiplatform --upgrade --user"
   ]
  },
  {
   "cell_type": "code",
   "execution_count": 2,
   "id": "e43676da",
   "metadata": {},
   "outputs": [],
   "source": [
    "from google.cloud import aiplatform\n",
    "from google.cloud.aiplatform import hyperparameter_tuning as hpt"
   ]
  },
  {
   "cell_type": "markdown",
   "id": "846d04b8",
   "metadata": {},
   "source": [
    "Build container image (Assumption: We already have written the Docker file for this, by now.)"
   ]
  },
  {
   "cell_type": "code",
   "execution_count": 3,
   "id": "559951c3",
   "metadata": {},
   "outputs": [],
   "source": [
    "PROJECT_ID = \"kubeflow-1-0-2\"\n",
    "\n",
    "# Set the IMAGE_URI\n",
    "IMAGE_URI=f\"gcr.io/{PROJECT_ID}/fire-detection:hypertune\""
   ]
  },
  {
   "cell_type": "code",
   "execution_count": 4,
   "id": "88927c7f",
   "metadata": {},
   "outputs": [
    {
     "name": "stdout",
     "output_type": "stream",
     "text": [
      "Sending build context to Docker daemon  53.76kB\n",
      "Step 1/5 : FROM gcr.io/deeplearning-platform-release/tf2-gpu.2-5\n",
      " ---> 307b41b1aec7\n",
      "Step 2/5 : WORKDIR /\n",
      " ---> Using cache\n",
      " ---> 7d124911c0d6\n",
      "Step 3/5 : RUN pip install cloudml-hypertune\n",
      " ---> Using cache\n",
      " ---> 01464536d004\n",
      "Step 4/5 : COPY trainer /trainer\n",
      " ---> d41331a3dbbe\n",
      "Step 5/5 : ENTRYPOINT [\"python\", \"-m\", \"trainer.task\"]\n",
      " ---> Running in f48f2b4b1702\n",
      "Removing intermediate container f48f2b4b1702\n",
      " ---> 0eb3ad196607\n",
      "Successfully built 0eb3ad196607\n",
      "Successfully tagged gcr.io/kubeflow-1-0-2/fire-detection:hypertune\n"
     ]
    }
   ],
   "source": [
    "# Build the docker image\n",
    "! docker build -f Dockerfile -t $IMAGE_URI ./"
   ]
  },
  {
   "cell_type": "markdown",
   "id": "c73a1b0e",
   "metadata": {},
   "source": [
    "Push to Container Registry"
   ]
  },
  {
   "cell_type": "code",
   "execution_count": 5,
   "id": "477abef7",
   "metadata": {},
   "outputs": [
    {
     "name": "stdout",
     "output_type": "stream",
     "text": [
      "The push refers to repository [gcr.io/kubeflow-1-0-2/fire-detection]\n",
      "\n",
      "\u001b[1Bf60161bd: Preparing \n",
      "\u001b[1B63dc2d20: Preparing \n",
      "\u001b[1Baa5df10d: Preparing \n",
      "\u001b[1B010939aa: Preparing \n",
      "\u001b[1Bc4ea3a81: Preparing \n",
      "\u001b[1B08c5711b: Preparing \n",
      "\u001b[1Bb564e194: Preparing \n",
      "\u001b[1B6808a3d1: Preparing \n",
      "\u001b[1Bbdf9b557: Preparing \n",
      "\u001b[1Bdbc2b748: Preparing \n",
      "\u001b[1Bb8f29c2e: Preparing \n",
      "\u001b[1B7b2f7486: Preparing \n",
      "\u001b[1B97a3e6e4: Preparing \n",
      "\u001b[1Ba5e8117f: Preparing \n",
      "\u001b[1B8124ed57: Preparing \n",
      "\u001b[1B4704bb3d: Preparing \n",
      "\u001b[1B6ef24b4b: Preparing \n",
      "\u001b[1B113f67c8: Preparing \n",
      "\u001b[1B857a1d48: Preparing \n",
      "\u001b[1B97864c52: Preparing \n",
      "\u001b[1Bbaac3e32: Preparing \n",
      "\u001b[1Ba1af4c10: Preparing \n",
      "\u001b[1Ba468ca49: Preparing \n",
      "\u001b[1B205798d1: Preparing \n",
      "\u001b[1Bcd6d4269: Preparing \n",
      "\u001b[1B55c89c2a: Preparing \n",
      "\u001b[1Bb9034da6: Preparing \n",
      "\u001b[1B4fbfce85: Preparing \n",
      "\u001b[1B9ca3db46: Preparing \n",
      "\u001b[1B1a1930ab: Preparing \n",
      "\u001b[1Bf5a43f1f: Preparing \n",
      "\u001b[32B60161bd: Pushed lready exists kB\u001b[29A\u001b[2K\u001b[30A\u001b[2K\u001b[24A\u001b[2K\u001b[21A\u001b[2K\u001b[16A\u001b[2K\u001b[12A\u001b[2K\u001b[9A\u001b[2K\u001b[4A\u001b[2K\u001b[1A\u001b[2K\u001b[32A\u001b[2Khypertune: digest: sha256:65791653d2628ec9005ac930a8de04fece5f021029e035e60f1c194cd9a855f3 size: 7045\n"
     ]
    }
   ],
   "source": [
    "! docker push $IMAGE_URI"
   ]
  },
  {
   "cell_type": "markdown",
   "id": "60c427c9",
   "metadata": {},
   "source": [
    "Specs for distributed training"
   ]
  },
  {
   "cell_type": "code",
   "execution_count": 6,
   "id": "fb14f51a",
   "metadata": {},
   "outputs": [
    {
     "data": {
      "text/plain": [
       "'gcr.io/kubeflow-1-0-2/fire-detection:hypertune'"
      ]
     },
     "execution_count": 6,
     "metadata": {},
     "output_type": "execute_result"
    }
   ],
   "source": [
    "IMAGE_URI"
   ]
  },
  {
   "cell_type": "code",
   "execution_count": 7,
   "id": "e6e0fafd",
   "metadata": {},
   "outputs": [],
   "source": [
    "# The spec of the worker pools including machine type and Docker image\n",
    "# Be sure to replace IMAGE_URI with the path to your Docker image in GCR\n",
    "worker_pool_specs = [{\n",
    "                    \"machine_spec\": {\n",
    "                                    \"machine_type\": \"n1-standard-4\",\n",
    "#                                     \"accelerator_type\": \"NVIDIA_TESLA_T4\",\n",
    "#                                     \"accelerator_count\": 1\n",
    "                                    },\n",
    "                    \"replica_count\": 1,\n",
    "                    \"container_spec\": {\n",
    "                                        \"image_uri\": IMAGE_URI  # <-- Change this\n",
    "                                      }\n",
    "                    }]\n",
    "\n",
    "\n",
    "# Dicionary representing metrics to optimize.\n",
    "# The dictionary key is the metric_id, which is reported by your training job,\n",
    "# And the dictionary value is the optimization goal of the metric.\n",
    "metric_spec={'accuracy':'maximize'}\n",
    "\n",
    "# Dictionary representing parameters to optimize.\n",
    "# The dictionary key is the parameter_id, which is passed into your training\n",
    "# job as a command line argument,\n",
    "# And the dictionary value is the parameter specification of the metric.\n",
    "parameter_spec = {\n",
    "                \"learning_rate\": hpt.DoubleParameterSpec(min=0.01, max=0.015,  # float\n",
    "                                                         scale=\"log\"),\n",
    "                \"momentum\": hpt.DoubleParameterSpec(min=0.0, max=0.01,  # float\n",
    "                                                    scale=\"linear\"),\n",
    "                \"num_hidden\": hpt.DiscreteParameterSpec(values=[16, 32],  # int\n",
    "                                                        scale=None),\n",
    "#                 \"batch_size\": hpt.DiscreteParameterSpec(values=[16, 32],  # int\n",
    "#                                                         scale=None)\n",
    "                }"
   ]
  },
  {
   "cell_type": "code",
   "execution_count": 8,
   "id": "0bbcb4fb",
   "metadata": {},
   "outputs": [],
   "source": [
    "# Replace YOUR_BUCKET\n",
    "staging_bucket = \"gs://fire_detection_anurag/temp_dir/hptune\"  # <-- Change this\n",
    "\n",
    "my_custom_job = aiplatform.CustomJob(display_name='fire-detector-hptune',\n",
    "                                     worker_pool_specs=worker_pool_specs,\n",
    "                                     staging_bucket=staging_bucket)  "
   ]
  },
  {
   "cell_type": "code",
   "execution_count": 9,
   "id": "0582dfe3",
   "metadata": {},
   "outputs": [
    {
     "name": "stdout",
     "output_type": "stream",
     "text": [
      "INFO:google.cloud.aiplatform.jobs:Creating HyperparameterTuningJob\n",
      "INFO:google.cloud.aiplatform.jobs:HyperparameterTuningJob created. Resource name: projects/9118975290/locations/us-central1/hyperparameterTuningJobs/345877770796007424\n",
      "INFO:google.cloud.aiplatform.jobs:To use this HyperparameterTuningJob in another session:\n",
      "INFO:google.cloud.aiplatform.jobs:hpt_job = aiplatform.HyperparameterTuningJob.get('projects/9118975290/locations/us-central1/hyperparameterTuningJobs/345877770796007424')\n",
      "INFO:google.cloud.aiplatform.jobs:View HyperparameterTuningJob:\n",
      "https://console.cloud.google.com/ai/platform/locations/us-central1/training/345877770796007424?project=9118975290\n",
      "INFO:google.cloud.aiplatform.jobs:HyperparameterTuningJob projects/9118975290/locations/us-central1/hyperparameterTuningJobs/345877770796007424 current state:\n",
      "JobState.JOB_STATE_PENDING\n",
      "INFO:google.cloud.aiplatform.jobs:HyperparameterTuningJob projects/9118975290/locations/us-central1/hyperparameterTuningJobs/345877770796007424 current state:\n",
      "JobState.JOB_STATE_PENDING\n",
      "INFO:google.cloud.aiplatform.jobs:HyperparameterTuningJob projects/9118975290/locations/us-central1/hyperparameterTuningJobs/345877770796007424 current state:\n",
      "JobState.JOB_STATE_RUNNING\n",
      "INFO:google.cloud.aiplatform.jobs:HyperparameterTuningJob projects/9118975290/locations/us-central1/hyperparameterTuningJobs/345877770796007424 current state:\n",
      "JobState.JOB_STATE_RUNNING\n",
      "INFO:google.cloud.aiplatform.jobs:HyperparameterTuningJob projects/9118975290/locations/us-central1/hyperparameterTuningJobs/345877770796007424 current state:\n",
      "JobState.JOB_STATE_RUNNING\n",
      "INFO:google.cloud.aiplatform.jobs:HyperparameterTuningJob projects/9118975290/locations/us-central1/hyperparameterTuningJobs/345877770796007424 current state:\n",
      "JobState.JOB_STATE_RUNNING\n",
      "INFO:google.cloud.aiplatform.jobs:HyperparameterTuningJob projects/9118975290/locations/us-central1/hyperparameterTuningJobs/345877770796007424 current state:\n",
      "JobState.JOB_STATE_RUNNING\n",
      "INFO:google.cloud.aiplatform.jobs:HyperparameterTuningJob projects/9118975290/locations/us-central1/hyperparameterTuningJobs/345877770796007424 current state:\n",
      "JobState.JOB_STATE_RUNNING\n",
      "INFO:google.cloud.aiplatform.jobs:HyperparameterTuningJob projects/9118975290/locations/us-central1/hyperparameterTuningJobs/345877770796007424 current state:\n",
      "JobState.JOB_STATE_RUNNING\n",
      "INFO:google.cloud.aiplatform.jobs:HyperparameterTuningJob projects/9118975290/locations/us-central1/hyperparameterTuningJobs/345877770796007424 current state:\n",
      "JobState.JOB_STATE_RUNNING\n",
      "INFO:google.cloud.aiplatform.jobs:HyperparameterTuningJob projects/9118975290/locations/us-central1/hyperparameterTuningJobs/345877770796007424 current state:\n",
      "JobState.JOB_STATE_RUNNING\n",
      "INFO:google.cloud.aiplatform.jobs:HyperparameterTuningJob projects/9118975290/locations/us-central1/hyperparameterTuningJobs/345877770796007424 current state:\n",
      "JobState.JOB_STATE_RUNNING\n",
      "INFO:google.cloud.aiplatform.jobs:HyperparameterTuningJob projects/9118975290/locations/us-central1/hyperparameterTuningJobs/345877770796007424 current state:\n",
      "JobState.JOB_STATE_RUNNING\n",
      "INFO:google.cloud.aiplatform.jobs:HyperparameterTuningJob projects/9118975290/locations/us-central1/hyperparameterTuningJobs/345877770796007424 current state:\n",
      "JobState.JOB_STATE_RUNNING\n",
      "INFO:google.cloud.aiplatform.jobs:HyperparameterTuningJob projects/9118975290/locations/us-central1/hyperparameterTuningJobs/345877770796007424 current state:\n",
      "JobState.JOB_STATE_RUNNING\n",
      "INFO:google.cloud.aiplatform.jobs:HyperparameterTuningJob projects/9118975290/locations/us-central1/hyperparameterTuningJobs/345877770796007424 current state:\n",
      "JobState.JOB_STATE_RUNNING\n",
      "INFO:google.cloud.aiplatform.jobs:HyperparameterTuningJob projects/9118975290/locations/us-central1/hyperparameterTuningJobs/345877770796007424 current state:\n",
      "JobState.JOB_STATE_RUNNING\n",
      "INFO:google.cloud.aiplatform.jobs:HyperparameterTuningJob projects/9118975290/locations/us-central1/hyperparameterTuningJobs/345877770796007424 current state:\n",
      "JobState.JOB_STATE_RUNNING\n",
      "INFO:google.cloud.aiplatform.jobs:HyperparameterTuningJob projects/9118975290/locations/us-central1/hyperparameterTuningJobs/345877770796007424 current state:\n",
      "JobState.JOB_STATE_RUNNING\n",
      "INFO:google.cloud.aiplatform.jobs:HyperparameterTuningJob projects/9118975290/locations/us-central1/hyperparameterTuningJobs/345877770796007424 current state:\n",
      "JobState.JOB_STATE_RUNNING\n",
      "INFO:google.cloud.aiplatform.jobs:HyperparameterTuningJob projects/9118975290/locations/us-central1/hyperparameterTuningJobs/345877770796007424 current state:\n",
      "JobState.JOB_STATE_RUNNING\n",
      "INFO:google.cloud.aiplatform.jobs:HyperparameterTuningJob projects/9118975290/locations/us-central1/hyperparameterTuningJobs/345877770796007424 current state:\n",
      "JobState.JOB_STATE_RUNNING\n",
      "INFO:google.cloud.aiplatform.jobs:HyperparameterTuningJob projects/9118975290/locations/us-central1/hyperparameterTuningJobs/345877770796007424 current state:\n",
      "JobState.JOB_STATE_SUCCEEDED\n",
      "INFO:google.cloud.aiplatform.jobs:HyperparameterTuningJob run completed. Resource name: projects/9118975290/locations/us-central1/hyperparameterTuningJobs/345877770796007424\n"
     ]
    }
   ],
   "source": [
    "hp_job = aiplatform.HyperparameterTuningJob(\n",
    "                                            display_name='fire-detector-hptune',\n",
    "                                            custom_job=my_custom_job,\n",
    "                                            metric_spec=metric_spec,\n",
    "                                            parameter_spec=parameter_spec,\n",
    "                                            max_trial_count=8,  # preferably high\n",
    "                                            parallel_trial_count=2  # prefeably low\n",
    "                                            )\n",
    "\n",
    "hp_job.run()"
   ]
  },
  {
   "cell_type": "code",
   "execution_count": null,
   "id": "70a090ea",
   "metadata": {},
   "outputs": [],
   "source": []
  }
 ],
 "metadata": {
  "environment": {
   "name": "tf2-gpu.2-3.m65",
   "type": "gcloud",
   "uri": "gcr.io/deeplearning-platform-release/tf2-gpu.2-3:m65"
  },
  "kernelspec": {
   "display_name": "Python 3",
   "language": "python",
   "name": "python3"
  },
  "language_info": {
   "codemirror_mode": {
    "name": "ipython",
    "version": 3
   },
   "file_extension": ".py",
   "mimetype": "text/x-python",
   "name": "python",
   "nbconvert_exporter": "python",
   "pygments_lexer": "ipython3",
   "version": "3.7.10"
  }
 },
 "nbformat": 4,
 "nbformat_minor": 5
}
