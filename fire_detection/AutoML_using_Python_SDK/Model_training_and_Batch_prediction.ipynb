{
 "cells": [
  {
   "cell_type": "code",
   "execution_count": 1,
   "id": "68784f7c",
   "metadata": {},
   "outputs": [],
   "source": [
    "import google.cloud.aiplatform as aip"
   ]
  },
  {
   "cell_type": "code",
   "execution_count": 2,
   "id": "fb6652aa",
   "metadata": {},
   "outputs": [],
   "source": [
    "PROJECT_ID = \"kubeflow-1-0-2\"  # <---CHANGE THIS\n",
    "REGION = \"us-central1-a\""
   ]
  },
  {
   "cell_type": "code",
   "execution_count": 3,
   "id": "5ca5484e",
   "metadata": {},
   "outputs": [
    {
     "data": {
      "text/plain": [
       "'20211105140403'"
      ]
     },
     "execution_count": 3,
     "metadata": {},
     "output_type": "execute_result"
    }
   ],
   "source": [
    "from datetime import datetime\n",
    "\n",
    "TIMESTAMP = datetime.now().strftime(\"%Y%m%d%H%M%S\")\n",
    "TIMESTAMP"
   ]
  },
  {
   "cell_type": "code",
   "execution_count": 4,
   "id": "b5708050",
   "metadata": {},
   "outputs": [
    {
     "data": {
      "text/plain": [
       "'gs://fire_detection_anurag/pipeline_root/automl/anuragbhatia'"
      ]
     },
     "execution_count": 4,
     "metadata": {},
     "output_type": "execute_result"
    }
   ],
   "source": [
    "BUCKET_NAME = \"gs://fire_detection_anurag\"  # <---CHANGE THIS\n",
    "USER = \"anuragbhatia\"  # <---CHANGE THIS\n",
    "\n",
    "PIPELINE_ROOT = \"{}/pipeline_root/automl/{}\".format(BUCKET_NAME, USER)\n",
    "\n",
    "PIPELINE_ROOT"
   ]
  },
  {
   "cell_type": "code",
   "execution_count": 5,
   "id": "f9a97e08",
   "metadata": {},
   "outputs": [],
   "source": [
    "aip.init(project=PROJECT_ID,\n",
    "         staging_bucket=BUCKET_NAME)"
   ]
  },
  {
   "cell_type": "markdown",
   "id": "9e869616",
   "metadata": {},
   "source": [
    "## Create Vertex AI (Managed) Dataset"
   ]
  },
  {
   "cell_type": "code",
   "execution_count": 6,
   "id": "c6d135e1",
   "metadata": {},
   "outputs": [],
   "source": [
    "IMPORT_FILE = 'gs://fire_detection_anurag/fire_dataset_AutoML.csv'  # <---CHANGE THIS"
   ]
  },
  {
   "cell_type": "code",
   "execution_count": 7,
   "id": "dc1577f1",
   "metadata": {},
   "outputs": [
    {
     "name": "stdout",
     "output_type": "stream",
     "text": [
      "INFO:google.cloud.aiplatform.datasets.dataset:Creating ImageDataset\n",
      "INFO:google.cloud.aiplatform.datasets.dataset:Create ImageDataset backing LRO: projects/9118975290/locations/us-central1/datasets/2913327581606445056/operations/2721328524701990912\n",
      "INFO:google.cloud.aiplatform.datasets.dataset:ImageDataset created. Resource name: projects/9118975290/locations/us-central1/datasets/2913327581606445056\n",
      "INFO:google.cloud.aiplatform.datasets.dataset:To use this ImageDataset in another session:\n",
      "INFO:google.cloud.aiplatform.datasets.dataset:ds = aiplatform.ImageDataset('projects/9118975290/locations/us-central1/datasets/2913327581606445056')\n",
      "INFO:google.cloud.aiplatform.datasets.dataset:Importing ImageDataset data: projects/9118975290/locations/us-central1/datasets/2913327581606445056\n",
      "INFO:google.cloud.aiplatform.datasets.dataset:Import ImageDataset data backing LRO: projects/9118975290/locations/us-central1/datasets/2913327581606445056/operations/2666722379220123648\n",
      "INFO:google.cloud.aiplatform.datasets.dataset:ImageDataset data imported. Resource name: projects/9118975290/locations/us-central1/datasets/2913327581606445056\n",
      "projects/9118975290/locations/us-central1/datasets/2913327581606445056\n"
     ]
    }
   ],
   "source": [
    "dataset = aip.ImageDataset.create(\n",
    "                                display_name=\"Fire\" + \"_\" + TIMESTAMP,\n",
    "                                gcs_source=[IMPORT_FILE],\n",
    "                                import_schema_uri=aip.schema.dataset.ioformat.image.single_label_classification,\n",
    "                                )\n",
    "\n",
    "print(dataset.resource_name)"
   ]
  },
  {
   "cell_type": "markdown",
   "id": "3c67e45b",
   "metadata": {},
   "source": [
    "## AutoML Model Training"
   ]
  },
  {
   "cell_type": "code",
   "execution_count": 8,
   "id": "909de78b",
   "metadata": {},
   "outputs": [],
   "source": [
    "dag = aip.AutoMLImageTrainingJob(\n",
    "                                display_name=\"fire_\" + TIMESTAMP,\n",
    "                                prediction_type=\"classification\",\n",
    "                                multi_label=False,  # 1-label per image\n",
    "                                model_type=\"CLOUD\",\n",
    "                                base_model=None,\n",
    "                                )"
   ]
  },
  {
   "cell_type": "code",
   "execution_count": 9,
   "id": "ff11b130",
   "metadata": {},
   "outputs": [
    {
     "name": "stdout",
     "output_type": "stream",
     "text": [
      "INFO:google.cloud.aiplatform.training_jobs:View Training:\n",
      "https://console.cloud.google.com/ai/platform/locations/us-central1/training/8851180753782833152?project=9118975290\n",
      "INFO:google.cloud.aiplatform.training_jobs:AutoMLImageTrainingJob projects/9118975290/locations/us-central1/trainingPipelines/8851180753782833152 current state:\n",
      "PipelineState.PIPELINE_STATE_RUNNING\n",
      "INFO:google.cloud.aiplatform.training_jobs:AutoMLImageTrainingJob projects/9118975290/locations/us-central1/trainingPipelines/8851180753782833152 current state:\n",
      "PipelineState.PIPELINE_STATE_RUNNING\n",
      "INFO:google.cloud.aiplatform.training_jobs:AutoMLImageTrainingJob projects/9118975290/locations/us-central1/trainingPipelines/8851180753782833152 current state:\n",
      "PipelineState.PIPELINE_STATE_RUNNING\n",
      "INFO:google.cloud.aiplatform.training_jobs:AutoMLImageTrainingJob projects/9118975290/locations/us-central1/trainingPipelines/8851180753782833152 current state:\n",
      "PipelineState.PIPELINE_STATE_RUNNING\n",
      "INFO:google.cloud.aiplatform.training_jobs:AutoMLImageTrainingJob projects/9118975290/locations/us-central1/trainingPipelines/8851180753782833152 current state:\n",
      "PipelineState.PIPELINE_STATE_RUNNING\n",
      "INFO:google.cloud.aiplatform.training_jobs:AutoMLImageTrainingJob projects/9118975290/locations/us-central1/trainingPipelines/8851180753782833152 current state:\n",
      "PipelineState.PIPELINE_STATE_RUNNING\n",
      "INFO:google.cloud.aiplatform.training_jobs:AutoMLImageTrainingJob projects/9118975290/locations/us-central1/trainingPipelines/8851180753782833152 current state:\n",
      "PipelineState.PIPELINE_STATE_RUNNING\n",
      "INFO:google.cloud.aiplatform.training_jobs:AutoMLImageTrainingJob projects/9118975290/locations/us-central1/trainingPipelines/8851180753782833152 current state:\n",
      "PipelineState.PIPELINE_STATE_RUNNING\n",
      "INFO:google.cloud.aiplatform.training_jobs:AutoMLImageTrainingJob projects/9118975290/locations/us-central1/trainingPipelines/8851180753782833152 current state:\n",
      "PipelineState.PIPELINE_STATE_RUNNING\n",
      "INFO:google.cloud.aiplatform.training_jobs:AutoMLImageTrainingJob projects/9118975290/locations/us-central1/trainingPipelines/8851180753782833152 current state:\n",
      "PipelineState.PIPELINE_STATE_RUNNING\n",
      "INFO:google.cloud.aiplatform.training_jobs:AutoMLImageTrainingJob projects/9118975290/locations/us-central1/trainingPipelines/8851180753782833152 current state:\n",
      "PipelineState.PIPELINE_STATE_RUNNING\n",
      "INFO:google.cloud.aiplatform.training_jobs:AutoMLImageTrainingJob run completed. Resource name: projects/9118975290/locations/us-central1/trainingPipelines/8851180753782833152\n",
      "INFO:google.cloud.aiplatform.training_jobs:Model available at projects/9118975290/locations/us-central1/models/8411743339556110336\n"
     ]
    }
   ],
   "source": [
    "model = dag.run(\n",
    "                dataset=dataset,\n",
    "                model_display_name=\"fire_\" + TIMESTAMP,\n",
    "                training_fraction_split=0.8,  # 80:10:10 train:val:test split\n",
    "                validation_fraction_split=0.1,\n",
    "                test_fraction_split=0.1,\n",
    "                budget_milli_node_hours=8000,  # max 8 hours\n",
    "                disable_early_stopping=False  # avoid over-fitting\n",
    "               )"
   ]
  },
  {
   "cell_type": "markdown",
   "id": "63840b89",
   "metadata": {},
   "source": [
    "## Model performance metrics"
   ]
  },
  {
   "cell_type": "markdown",
   "id": "886ef489",
   "metadata": {},
   "source": [
    "Precision-Recall Curve (at threshold set to default value i.e. 0.5)\n",
    "\n",
    "<a href=\"https://storage.cloud.google.com/fire_detection_anurag/model_performance/AutoML_using_python_sdk/PR_Curve.png\" target=\"_blank\"><img src=\"https://storage.cloud.google.com/fire_detection_anurag/model_performance/AutoML_using_python_sdk/PR_Curve.png\" width=\"90%\"/></a>"
   ]
  },
  {
   "cell_type": "markdown",
   "id": "c4fecd24",
   "metadata": {},
   "source": [
    "Confusion Matrix\n",
    "\n",
    "<a href=\"https://storage.cloud.google.com/fire_detection_anurag/model_performance/AutoML_using_python_sdk/Confusion_matrix.png\" target=\"_blank\"><img src=\"https://storage.cloud.google.com/fire_detection_anurag/model_performance/AutoML_using_python_sdk/Confusion_matrix.png\" width=\"90%\"/></a>"
   ]
  },
  {
   "cell_type": "markdown",
   "id": "e3c95390",
   "metadata": {},
   "source": [
    "Not bad at all. :)"
   ]
  },
  {
   "cell_type": "markdown",
   "id": "428f1850",
   "metadata": {},
   "source": [
    "Fingers crossed. Let's double-check.."
   ]
  },
  {
   "cell_type": "markdown",
   "id": "4f9ad9b0",
   "metadata": {},
   "source": [
    "## Batch prediction"
   ]
  },
  {
   "cell_type": "code",
   "execution_count": 10,
   "id": "5cbfbbff",
   "metadata": {},
   "outputs": [],
   "source": [
    "import tensorflow as tf\n",
    "import json"
   ]
  },
  {
   "cell_type": "code",
   "execution_count": 11,
   "id": "f6a6b707",
   "metadata": {},
   "outputs": [
    {
     "data": {
      "text/plain": [
       "10"
      ]
     },
     "execution_count": 11,
     "metadata": {},
     "output_type": "execute_result"
    }
   ],
   "source": [
    "batch_prediction_bucket = \"gs://fire_detection_anurag/test_images/\"\n",
    "\n",
    "test_images = tf.io.gfile.listdir(batch_prediction_bucket)\n",
    "len(test_images)"
   ]
  },
  {
   "cell_type": "code",
   "execution_count": 12,
   "id": "f5dbeb28",
   "metadata": {},
   "outputs": [
    {
     "data": {
      "text/plain": [
       "'fire1.jpg'"
      ]
     },
     "execution_count": 12,
     "metadata": {},
     "output_type": "execute_result"
    }
   ],
   "source": [
    "test_images[0]"
   ]
  },
  {
   "cell_type": "code",
   "execution_count": 13,
   "id": "f6bddcfe",
   "metadata": {},
   "outputs": [
    {
     "name": "stdout",
     "output_type": "stream",
     "text": [
      "gs://fire_detection_anurag/test_images/test.jsonl\n"
     ]
    }
   ],
   "source": [
    "gcs_input_uri = batch_prediction_bucket + 'test.jsonl'\n",
    "\n",
    "with tf.io.gfile.GFile(gcs_input_uri, 'w') as f:\n",
    "    for i in range(len(test_images)):\n",
    "        data = {\"content\": batch_prediction_bucket + test_images[i],\n",
    "                \"mime_type\": \"image/jpeg\"}\n",
    "        f.write(json.dumps(data) + '\\n')\n",
    "\n",
    "print(gcs_input_uri)"
   ]
  },
  {
   "cell_type": "code",
   "execution_count": 14,
   "id": "c0d865a0",
   "metadata": {},
   "outputs": [
    {
     "name": "stdout",
     "output_type": "stream",
     "text": [
      "{\"content\": \"gs://fire_detection_anurag/test_images/fire1.jpg\", \"mime_type\": \"image/jpeg\"}\n",
      "{\"content\": \"gs://fire_detection_anurag/test_images/fire2.jpg\", \"mime_type\": \"image/jpeg\"}\n",
      "{\"content\": \"gs://fire_detection_anurag/test_images/fire3.jpg\", \"mime_type\": \"image/jpeg\"}\n",
      "{\"content\": \"gs://fire_detection_anurag/test_images/fire4.jpg\", \"mime_type\": \"image/jpeg\"}\n",
      "{\"content\": \"gs://fire_detection_anurag/test_images/fire5.jpg\", \"mime_type\": \"image/jpeg\"}\n",
      "{\"content\": \"gs://fire_detection_anurag/test_images/no_fire1.jpg\", \"mime_type\": \"image/jpeg\"}\n",
      "{\"content\": \"gs://fire_detection_anurag/test_images/no_fire2.jpg\", \"mime_type\": \"image/jpeg\"}\n",
      "{\"content\": \"gs://fire_detection_anurag/test_images/no_fire3.jpg\", \"mime_type\": \"image/jpeg\"}\n",
      "{\"content\": \"gs://fire_detection_anurag/test_images/no_fire4.jpg\", \"mime_type\": \"image/jpeg\"}\n",
      "{\"content\": \"gs://fire_detection_anurag/test_images/no_fire5.jpg\", \"mime_type\": \"image/jpeg\"}\n"
     ]
    }
   ],
   "source": [
    "!gsutil cat $gcs_input_uri"
   ]
  },
  {
   "cell_type": "code",
   "execution_count": 15,
   "id": "9740d42a",
   "metadata": {},
   "outputs": [
    {
     "name": "stdout",
     "output_type": "stream",
     "text": [
      "INFO:google.cloud.aiplatform.jobs:Creating BatchPredictionJob\n",
      "<google.cloud.aiplatform.jobs.BatchPredictionJob object at 0x7f12d4870410> is waiting for upstream dependencies to complete.\n",
      "INFO:google.cloud.aiplatform.jobs:BatchPredictionJob created. Resource name: projects/9118975290/locations/us-central1/batchPredictionJobs/6525071546245971968\n",
      "INFO:google.cloud.aiplatform.jobs:To use this BatchPredictionJob in another session:\n",
      "INFO:google.cloud.aiplatform.jobs:bpj = aiplatform.BatchPredictionJob('projects/9118975290/locations/us-central1/batchPredictionJobs/6525071546245971968')\n",
      "INFO:google.cloud.aiplatform.jobs:View Batch Prediction Job:\n",
      "https://console.cloud.google.com/ai/platform/locations/us-central1/batch-predictions/6525071546245971968?project=9118975290\n",
      "INFO:google.cloud.aiplatform.jobs:BatchPredictionJob projects/9118975290/locations/us-central1/batchPredictionJobs/6525071546245971968 current state:\n",
      "JobState.JOB_STATE_PENDING\n",
      "INFO:google.cloud.aiplatform.jobs:BatchPredictionJob projects/9118975290/locations/us-central1/batchPredictionJobs/6525071546245971968 current state:\n",
      "JobState.JOB_STATE_RUNNING\n"
     ]
    }
   ],
   "source": [
    "batch_predict_job = model.batch_predict(\n",
    "                                        job_display_name=\"fire_batch_prediction_\" + TIMESTAMP,\n",
    "                                        gcs_source=gcs_input_uri,\n",
    "                                        gcs_destination_prefix=batch_prediction_bucket,\n",
    "                                        sync=False\n",
    "                                        )\n",
    "\n",
    "print(batch_predict_job)"
   ]
  },
  {
   "cell_type": "code",
   "execution_count": 16,
   "id": "a7cfb78d",
   "metadata": {},
   "outputs": [
    {
     "name": "stdout",
     "output_type": "stream",
     "text": [
      "INFO:google.cloud.aiplatform.jobs:BatchPredictionJob projects/9118975290/locations/us-central1/batchPredictionJobs/6525071546245971968 current state:\n",
      "JobState.JOB_STATE_RUNNING\n",
      "INFO:google.cloud.aiplatform.jobs:BatchPredictionJob projects/9118975290/locations/us-central1/batchPredictionJobs/6525071546245971968 current state:\n",
      "JobState.JOB_STATE_RUNNING\n",
      "INFO:google.cloud.aiplatform.jobs:BatchPredictionJob projects/9118975290/locations/us-central1/batchPredictionJobs/6525071546245971968 current state:\n",
      "JobState.JOB_STATE_RUNNING\n",
      "INFO:google.cloud.aiplatform.jobs:BatchPredictionJob projects/9118975290/locations/us-central1/batchPredictionJobs/6525071546245971968 current state:\n",
      "JobState.JOB_STATE_RUNNING\n",
      "INFO:google.cloud.aiplatform.jobs:BatchPredictionJob projects/9118975290/locations/us-central1/batchPredictionJobs/6525071546245971968 current state:\n",
      "JobState.JOB_STATE_RUNNING\n",
      "INFO:google.cloud.aiplatform.jobs:BatchPredictionJob projects/9118975290/locations/us-central1/batchPredictionJobs/6525071546245971968 current state:\n",
      "JobState.JOB_STATE_RUNNING\n",
      "INFO:google.cloud.aiplatform.jobs:BatchPredictionJob projects/9118975290/locations/us-central1/batchPredictionJobs/6525071546245971968 current state:\n",
      "JobState.JOB_STATE_RUNNING\n",
      "INFO:google.cloud.aiplatform.jobs:BatchPredictionJob projects/9118975290/locations/us-central1/batchPredictionJobs/6525071546245971968 current state:\n",
      "JobState.JOB_STATE_RUNNING\n",
      "INFO:google.cloud.aiplatform.jobs:BatchPredictionJob projects/9118975290/locations/us-central1/batchPredictionJobs/6525071546245971968 current state:\n",
      "JobState.JOB_STATE_SUCCEEDED\n",
      "INFO:google.cloud.aiplatform.jobs:BatchPredictionJob run completed. Resource name: projects/9118975290/locations/us-central1/batchPredictionJobs/6525071546245971968\n"
     ]
    }
   ],
   "source": [
    "batch_predict_job.wait()"
   ]
  },
  {
   "cell_type": "code",
   "execution_count": 17,
   "id": "ab73d337",
   "metadata": {},
   "outputs": [
    {
     "data": {
      "text/plain": [
       "google.api_core.page_iterator.HTTPIterator"
      ]
     },
     "execution_count": 17,
     "metadata": {},
     "output_type": "execute_result"
    }
   ],
   "source": [
    "bp_iter_outputs = batch_predict_job.iter_outputs()\n",
    "\n",
    "type(bp_iter_outputs)"
   ]
  },
  {
   "cell_type": "code",
   "execution_count": 18,
   "id": "e15d9bb9",
   "metadata": {},
   "outputs": [
    {
     "data": {
      "text/plain": [
       "['test_images/prediction-fire20211105140403-2021-11-05T15:04:29.256648Z/predictions_00001.jsonl']"
      ]
     },
     "execution_count": 18,
     "metadata": {},
     "output_type": "execute_result"
    }
   ],
   "source": [
    "prediction_results = list()\n",
    "\n",
    "for blob in bp_iter_outputs:\n",
    "    if blob.name.split(\"/\")[-1].startswith(\"prediction\"):\n",
    "        prediction_results.append(blob.name)\n",
    "        \n",
    "prediction_results"
   ]
  },
  {
   "cell_type": "markdown",
   "id": "d1272839",
   "metadata": {},
   "source": [
    "Parse the results"
   ]
  },
  {
   "cell_type": "code",
   "execution_count": 36,
   "id": "a26a593f",
   "metadata": {},
   "outputs": [
    {
     "name": "stdout",
     "output_type": "stream",
     "text": [
      "{'test_image': 'gs://fire_detection_anurag/test_images/fire2.jpg', 'classes': ['Fire', 'No_Fire'], 'confidence_scores': [0.9998115, 0.00018851359]}\n",
      "{'test_image': 'gs://fire_detection_anurag/test_images/fire1.jpg', 'classes': ['Fire', 'No_Fire'], 'confidence_scores': [0.9976693, 0.0023306988]}\n",
      "{'test_image': 'gs://fire_detection_anurag/test_images/fire3.jpg', 'classes': ['Fire', 'No_Fire'], 'confidence_scores': [0.99990535, 9.463103e-05]}\n",
      "{'test_image': 'gs://fire_detection_anurag/test_images/no_fire1.jpg', 'classes': ['No_Fire', 'Fire'], 'confidence_scores': [0.97757256, 0.022427412]}\n",
      "{'test_image': 'gs://fire_detection_anurag/test_images/fire5.jpg', 'classes': ['Fire', 'No_Fire'], 'confidence_scores': [0.99995315, 4.6900655e-05]}\n",
      "{'test_image': 'gs://fire_detection_anurag/test_images/fire4.jpg', 'classes': ['Fire', 'No_Fire'], 'confidence_scores': [0.9940141, 0.005985917]}\n",
      "{'test_image': 'gs://fire_detection_anurag/test_images/no_fire4.jpg', 'classes': ['No_Fire', 'Fire'], 'confidence_scores': [0.9997154, 0.000284544]}\n",
      "{'test_image': 'gs://fire_detection_anurag/test_images/no_fire5.jpg', 'classes': ['No_Fire', 'Fire'], 'confidence_scores': [1.0, 1.7739513e-08]}\n",
      "{'test_image': 'gs://fire_detection_anurag/test_images/no_fire2.jpg', 'classes': ['No_Fire', 'Fire'], 'confidence_scores': [0.994441, 0.00555898]}\n",
      "{'test_image': 'gs://fire_detection_anurag/test_images/no_fire3.jpg', 'classes': ['No_Fire', 'Fire'], 'confidence_scores': [1.0, 4.2669295e-09]}\n"
     ]
    }
   ],
   "source": [
    "for prediction_result in prediction_results:\n",
    "    gfile_name = f\"gs://{bp_iter_outputs.bucket.name}/{prediction_result}\"\n",
    "    \n",
    "    with tf.io.gfile.GFile(name=gfile_name, mode=\"r\") as gfile:\n",
    "        for line in gfile.readlines():\n",
    "            line = json.loads(line)\n",
    "\n",
    "            my_dict = {\n",
    "                       \"test_image\": line[\"instance\"][\"content\"],\n",
    "                       \"classes\": line[\"prediction\"][\"displayNames\"],\n",
    "                       \"confidence_scores\": line[\"prediction\"][\"confidences\"]\n",
    "                      }\n",
    "\n",
    "            print(my_dict)"
   ]
  },
  {
   "cell_type": "markdown",
   "id": "45d9df27",
   "metadata": {},
   "source": [
    "Correct predictions for all 10 images"
   ]
  },
  {
   "cell_type": "markdown",
   "id": "f8312cb7",
   "metadata": {},
   "source": [
    "Original template: https://github.com/GoogleCloudPlatform/ai-platform-samples/blob/master/ai-platform-unified/notebooks/unofficial/sdk/sdk_automl_image_classification_batch.ipynb"
   ]
  }
 ],
 "metadata": {
  "environment": {
   "name": "tf2-gpu.2-3.m65",
   "type": "gcloud",
   "uri": "gcr.io/deeplearning-platform-release/tf2-gpu.2-3:m65"
  },
  "kernelspec": {
   "display_name": "Python 3",
   "language": "python",
   "name": "python3"
  },
  "language_info": {
   "codemirror_mode": {
    "name": "ipython",
    "version": 3
   },
   "file_extension": ".py",
   "mimetype": "text/x-python",
   "name": "python",
   "nbconvert_exporter": "python",
   "pygments_lexer": "ipython3",
   "version": "3.7.10"
  }
 },
 "nbformat": 4,
 "nbformat_minor": 5
}
