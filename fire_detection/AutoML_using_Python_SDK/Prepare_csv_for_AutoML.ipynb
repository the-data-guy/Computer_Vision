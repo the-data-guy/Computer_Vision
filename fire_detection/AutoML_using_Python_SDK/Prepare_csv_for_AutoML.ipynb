{
 "cells": [
  {
   "cell_type": "code",
   "execution_count": 1,
   "id": "2aaa3a74",
   "metadata": {},
   "outputs": [],
   "source": [
    "import pandas as pd\n",
    "import tensorflow as tf"
   ]
  },
  {
   "cell_type": "code",
   "execution_count": 2,
   "id": "c25500c6",
   "metadata": {},
   "outputs": [],
   "source": [
    "gcs_fire = \"gs://fire_detection_anurag/fire/images/\"\n",
    "gcs_no_fire = \"gs://fire_detection_anurag/no_fire/images/\""
   ]
  },
  {
   "cell_type": "code",
   "execution_count": 3,
   "id": "4e714d19",
   "metadata": {},
   "outputs": [
    {
     "data": {
      "text/plain": [
       "(1375, 1770)"
      ]
     },
     "execution_count": 3,
     "metadata": {},
     "output_type": "execute_result"
    }
   ],
   "source": [
    "fire_images = tf.io.gfile.listdir(gcs_fire)\n",
    "no_fire_images = tf.io.gfile.listdir(gcs_no_fire)\n",
    "\n",
    "len(fire_images), len(no_fire_images)"
   ]
  },
  {
   "cell_type": "code",
   "execution_count": 4,
   "id": "4b50eba5",
   "metadata": {},
   "outputs": [
    {
     "data": {
      "text/plain": [
       "'ANd9GcQ0Pl0BuM8Lzwega8awx32qmD8w3QmzWFn_BUqZXZN0iY_NfAYRfQ&s.jpg'"
      ]
     },
     "execution_count": 4,
     "metadata": {},
     "output_type": "execute_result"
    }
   ],
   "source": [
    "fire_images[0]"
   ]
  },
  {
   "cell_type": "code",
   "execution_count": 5,
   "id": "57b4ca1b",
   "metadata": {},
   "outputs": [
    {
     "data": {
      "text/html": [
       "<div>\n",
       "<style scoped>\n",
       "    .dataframe tbody tr th:only-of-type {\n",
       "        vertical-align: middle;\n",
       "    }\n",
       "\n",
       "    .dataframe tbody tr th {\n",
       "        vertical-align: top;\n",
       "    }\n",
       "\n",
       "    .dataframe thead th {\n",
       "        text-align: right;\n",
       "    }\n",
       "</style>\n",
       "<table border=\"1\" class=\"dataframe\">\n",
       "  <thead>\n",
       "    <tr style=\"text-align: right;\">\n",
       "      <th></th>\n",
       "      <th>image_url</th>\n",
       "      <th>label</th>\n",
       "    </tr>\n",
       "  </thead>\n",
       "  <tbody>\n",
       "    <tr>\n",
       "      <th>0</th>\n",
       "      <td>ANd9GcQ0Pl0BuM8Lzwega8awx32qmD8w3QmzWFn_BUqZXZ...</td>\n",
       "      <td>Fire</td>\n",
       "    </tr>\n",
       "    <tr>\n",
       "      <th>1</th>\n",
       "      <td>ANd9GcQ0Z8_Xf6RQz__p0PQ1W7mFTQd4f43rfb5QCrWOUd...</td>\n",
       "      <td>Fire</td>\n",
       "    </tr>\n",
       "    <tr>\n",
       "      <th>2</th>\n",
       "      <td>ANd9GcQ0aPViS9XbmWKeg7WRKxlhbKw3EB6gfvITkXBjXh...</td>\n",
       "      <td>Fire</td>\n",
       "    </tr>\n",
       "    <tr>\n",
       "      <th>3</th>\n",
       "      <td>ANd9GcQ0mSDqApEJSxLRzYrk7OoONp7lZivtfwQSFhC1yN...</td>\n",
       "      <td>Fire</td>\n",
       "    </tr>\n",
       "    <tr>\n",
       "      <th>4</th>\n",
       "      <td>ANd9GcQ0zYhVO_eiHLz63HM1QWqgwYh7H7H6sbLm4552U9...</td>\n",
       "      <td>Fire</td>\n",
       "    </tr>\n",
       "  </tbody>\n",
       "</table>\n",
       "</div>"
      ],
      "text/plain": [
       "                                           image_url label\n",
       "0  ANd9GcQ0Pl0BuM8Lzwega8awx32qmD8w3QmzWFn_BUqZXZ...  Fire\n",
       "1  ANd9GcQ0Z8_Xf6RQz__p0PQ1W7mFTQd4f43rfb5QCrWOUd...  Fire\n",
       "2  ANd9GcQ0aPViS9XbmWKeg7WRKxlhbKw3EB6gfvITkXBjXh...  Fire\n",
       "3  ANd9GcQ0mSDqApEJSxLRzYrk7OoONp7lZivtfwQSFhC1yN...  Fire\n",
       "4  ANd9GcQ0zYhVO_eiHLz63HM1QWqgwYh7H7H6sbLm4552U9...  Fire"
      ]
     },
     "execution_count": 5,
     "metadata": {},
     "output_type": "execute_result"
    }
   ],
   "source": [
    "df_fire = pd.DataFrame()\n",
    "df_fire[\"image_url\"] = fire_images\n",
    "df_fire[\"label\"] = \"Fire\"\n",
    "\n",
    "\n",
    "df_no_fire = pd.DataFrame()\n",
    "df_no_fire[\"image_url\"] = no_fire_images\n",
    "df_no_fire[\"label\"] = \"No_Fire\"\n",
    "\n",
    "df_fire.head()"
   ]
  },
  {
   "cell_type": "code",
   "execution_count": 6,
   "id": "8d2a5c1c",
   "metadata": {},
   "outputs": [
    {
     "data": {
      "text/html": [
       "<div>\n",
       "<style scoped>\n",
       "    .dataframe tbody tr th:only-of-type {\n",
       "        vertical-align: middle;\n",
       "    }\n",
       "\n",
       "    .dataframe tbody tr th {\n",
       "        vertical-align: top;\n",
       "    }\n",
       "\n",
       "    .dataframe thead th {\n",
       "        text-align: right;\n",
       "    }\n",
       "</style>\n",
       "<table border=\"1\" class=\"dataframe\">\n",
       "  <thead>\n",
       "    <tr style=\"text-align: right;\">\n",
       "      <th></th>\n",
       "      <th>image_url</th>\n",
       "      <th>label</th>\n",
       "    </tr>\n",
       "  </thead>\n",
       "  <tbody>\n",
       "    <tr>\n",
       "      <th>0</th>\n",
       "      <td>gs://fire_detection_anurag/no_fire/images/ANd9...</td>\n",
       "      <td>No_Fire</td>\n",
       "    </tr>\n",
       "    <tr>\n",
       "      <th>1</th>\n",
       "      <td>gs://fire_detection_anurag/no_fire/images/ANd9...</td>\n",
       "      <td>No_Fire</td>\n",
       "    </tr>\n",
       "    <tr>\n",
       "      <th>2</th>\n",
       "      <td>gs://fire_detection_anurag/no_fire/images/ANd9...</td>\n",
       "      <td>No_Fire</td>\n",
       "    </tr>\n",
       "    <tr>\n",
       "      <th>3</th>\n",
       "      <td>gs://fire_detection_anurag/no_fire/images/ANd9...</td>\n",
       "      <td>No_Fire</td>\n",
       "    </tr>\n",
       "    <tr>\n",
       "      <th>4</th>\n",
       "      <td>gs://fire_detection_anurag/no_fire/images/ANd9...</td>\n",
       "      <td>No_Fire</td>\n",
       "    </tr>\n",
       "  </tbody>\n",
       "</table>\n",
       "</div>"
      ],
      "text/plain": [
       "                                           image_url    label\n",
       "0  gs://fire_detection_anurag/no_fire/images/ANd9...  No_Fire\n",
       "1  gs://fire_detection_anurag/no_fire/images/ANd9...  No_Fire\n",
       "2  gs://fire_detection_anurag/no_fire/images/ANd9...  No_Fire\n",
       "3  gs://fire_detection_anurag/no_fire/images/ANd9...  No_Fire\n",
       "4  gs://fire_detection_anurag/no_fire/images/ANd9...  No_Fire"
      ]
     },
     "execution_count": 6,
     "metadata": {},
     "output_type": "execute_result"
    }
   ],
   "source": [
    "# get the complete GCS url\n",
    "df_fire['image_url'] = df_fire['image_url'].apply(lambda x: gcs_fire + x)\n",
    "df_no_fire['image_url'] = df_no_fire['image_url'].apply(lambda x: gcs_no_fire + x)\n",
    "\n",
    "df_no_fire.head()"
   ]
  },
  {
   "cell_type": "code",
   "execution_count": 7,
   "id": "877b4d66",
   "metadata": {},
   "outputs": [
    {
     "data": {
      "text/plain": [
       "'gs://fire_detection_anurag/fire/images/ANd9GcQ0Pl0BuM8Lzwega8awx32qmD8w3QmzWFn_BUqZXZN0iY_NfAYRfQ&s.jpg'"
      ]
     },
     "execution_count": 7,
     "metadata": {},
     "output_type": "execute_result"
    }
   ],
   "source": [
    "list(df_fire['image_url'])[0]"
   ]
  },
  {
   "cell_type": "code",
   "execution_count": 8,
   "id": "fd397580",
   "metadata": {},
   "outputs": [
    {
     "data": {
      "text/html": [
       "<div>\n",
       "<style scoped>\n",
       "    .dataframe tbody tr th:only-of-type {\n",
       "        vertical-align: middle;\n",
       "    }\n",
       "\n",
       "    .dataframe tbody tr th {\n",
       "        vertical-align: top;\n",
       "    }\n",
       "\n",
       "    .dataframe thead th {\n",
       "        text-align: right;\n",
       "    }\n",
       "</style>\n",
       "<table border=\"1\" class=\"dataframe\">\n",
       "  <thead>\n",
       "    <tr style=\"text-align: right;\">\n",
       "      <th></th>\n",
       "      <th>image_url</th>\n",
       "      <th>label</th>\n",
       "    </tr>\n",
       "  </thead>\n",
       "  <tbody>\n",
       "    <tr>\n",
       "      <th>0</th>\n",
       "      <td>gs://fire_detection_anurag/fire/images/ANd9GcQ...</td>\n",
       "      <td>Fire</td>\n",
       "    </tr>\n",
       "    <tr>\n",
       "      <th>1</th>\n",
       "      <td>gs://fire_detection_anurag/fire/images/ANd9GcQ...</td>\n",
       "      <td>Fire</td>\n",
       "    </tr>\n",
       "    <tr>\n",
       "      <th>2</th>\n",
       "      <td>gs://fire_detection_anurag/fire/images/ANd9GcQ...</td>\n",
       "      <td>Fire</td>\n",
       "    </tr>\n",
       "    <tr>\n",
       "      <th>3</th>\n",
       "      <td>gs://fire_detection_anurag/fire/images/ANd9GcQ...</td>\n",
       "      <td>Fire</td>\n",
       "    </tr>\n",
       "    <tr>\n",
       "      <th>4</th>\n",
       "      <td>gs://fire_detection_anurag/fire/images/ANd9GcQ...</td>\n",
       "      <td>Fire</td>\n",
       "    </tr>\n",
       "  </tbody>\n",
       "</table>\n",
       "</div>"
      ],
      "text/plain": [
       "                                           image_url label\n",
       "0  gs://fire_detection_anurag/fire/images/ANd9GcQ...  Fire\n",
       "1  gs://fire_detection_anurag/fire/images/ANd9GcQ...  Fire\n",
       "2  gs://fire_detection_anurag/fire/images/ANd9GcQ...  Fire\n",
       "3  gs://fire_detection_anurag/fire/images/ANd9GcQ...  Fire\n",
       "4  gs://fire_detection_anurag/fire/images/ANd9GcQ...  Fire"
      ]
     },
     "execution_count": 8,
     "metadata": {},
     "output_type": "execute_result"
    }
   ],
   "source": [
    "combined_fire_datset = pd.concat([df_fire, df_no_fire])\n",
    "\n",
    "combined_fire_datset.head()"
   ]
  },
  {
   "cell_type": "code",
   "execution_count": 9,
   "id": "8b989ce8",
   "metadata": {},
   "outputs": [
    {
     "data": {
      "text/html": [
       "<div>\n",
       "<style scoped>\n",
       "    .dataframe tbody tr th:only-of-type {\n",
       "        vertical-align: middle;\n",
       "    }\n",
       "\n",
       "    .dataframe tbody tr th {\n",
       "        vertical-align: top;\n",
       "    }\n",
       "\n",
       "    .dataframe thead th {\n",
       "        text-align: right;\n",
       "    }\n",
       "</style>\n",
       "<table border=\"1\" class=\"dataframe\">\n",
       "  <thead>\n",
       "    <tr style=\"text-align: right;\">\n",
       "      <th></th>\n",
       "      <th>image_url</th>\n",
       "      <th>label</th>\n",
       "    </tr>\n",
       "  </thead>\n",
       "  <tbody>\n",
       "    <tr>\n",
       "      <th>1765</th>\n",
       "      <td>gs://fire_detection_anurag/no_fire/images/ANd9...</td>\n",
       "      <td>No_Fire</td>\n",
       "    </tr>\n",
       "    <tr>\n",
       "      <th>1766</th>\n",
       "      <td>gs://fire_detection_anurag/no_fire/images/ANd9...</td>\n",
       "      <td>No_Fire</td>\n",
       "    </tr>\n",
       "    <tr>\n",
       "      <th>1767</th>\n",
       "      <td>gs://fire_detection_anurag/no_fire/images/ANd9...</td>\n",
       "      <td>No_Fire</td>\n",
       "    </tr>\n",
       "    <tr>\n",
       "      <th>1768</th>\n",
       "      <td>gs://fire_detection_anurag/no_fire/images/ANd9...</td>\n",
       "      <td>No_Fire</td>\n",
       "    </tr>\n",
       "    <tr>\n",
       "      <th>1769</th>\n",
       "      <td>gs://fire_detection_anurag/no_fire/images/ANd9...</td>\n",
       "      <td>No_Fire</td>\n",
       "    </tr>\n",
       "  </tbody>\n",
       "</table>\n",
       "</div>"
      ],
      "text/plain": [
       "                                              image_url    label\n",
       "1765  gs://fire_detection_anurag/no_fire/images/ANd9...  No_Fire\n",
       "1766  gs://fire_detection_anurag/no_fire/images/ANd9...  No_Fire\n",
       "1767  gs://fire_detection_anurag/no_fire/images/ANd9...  No_Fire\n",
       "1768  gs://fire_detection_anurag/no_fire/images/ANd9...  No_Fire\n",
       "1769  gs://fire_detection_anurag/no_fire/images/ANd9...  No_Fire"
      ]
     },
     "execution_count": 9,
     "metadata": {},
     "output_type": "execute_result"
    }
   ],
   "source": [
    "combined_fire_datset.tail()"
   ]
  },
  {
   "cell_type": "code",
   "execution_count": 10,
   "id": "45de6c5d",
   "metadata": {},
   "outputs": [],
   "source": [
    "combined_fire_datset.to_csv(\n",
    "                            'fire_dataset_AutoML.csv',\n",
    "                            header=None,  # Vertex AI Datasets requirement\n",
    "                            index=None\n",
    "                           )"
   ]
  },
  {
   "cell_type": "markdown",
   "id": "384e4d99",
   "metadata": {},
   "source": [
    "Next_step: Upload this csv file in GCS bucket"
   ]
  }
 ],
 "metadata": {
  "environment": {
   "name": "tf2-gpu.2-3.m65",
   "type": "gcloud",
   "uri": "gcr.io/deeplearning-platform-release/tf2-gpu.2-3:m65"
  },
  "kernelspec": {
   "display_name": "Python 3",
   "language": "python",
   "name": "python3"
  },
  "language_info": {
   "codemirror_mode": {
    "name": "ipython",
    "version": 3
   },
   "file_extension": ".py",
   "mimetype": "text/x-python",
   "name": "python",
   "nbconvert_exporter": "python",
   "pygments_lexer": "ipython3",
   "version": "3.7.10"
  }
 },
 "nbformat": 4,
 "nbformat_minor": 5
}
